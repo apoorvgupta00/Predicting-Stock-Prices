{
  "nbformat": 4,
  "nbformat_minor": 0,
  "metadata": {
    "kernelspec": {
      "display_name": "Python 3",
      "language": "python",
      "name": "python3"
    },
    "language_info": {
      "codemirror_mode": {
        "name": "ipython",
        "version": 3
      },
      "file_extension": ".py",
      "mimetype": "text/x-python",
      "name": "python",
      "nbconvert_exporter": "python",
      "pygments_lexer": "ipython3",
      "version": "3.6.9"
    },
    "colab": {
      "name": "Alphabet_Stock_Prediction.ipynb",
      "provenance": []
    }
  },
  "cells": [
    {
      "cell_type": "code",
      "metadata": {
        "id": "OpvZ5dsyrRPG",
        "colab_type": "code",
        "colab": {}
      },
      "source": [
        ""
      ],
      "execution_count": null,
      "outputs": []
    },
    {
      "cell_type": "code",
      "metadata": {
        "id": "Pj6yoeTwrRPK",
        "colab_type": "code",
        "colab": {}
      },
      "source": [
        "#Importing important libraries\n",
        "import tensorflow as tf\n",
        "import numpy as np\n",
        "import pandas as pd\n",
        "import keras\n",
        "import matplotlib as plt\n",
        "import math\n",
        "\n",
        "from sklearn.metrics import mean_squared_error\n",
        "from sklearn.preprocessing import MinMaxScaler\n",
        "from sklearn.model_selection import train_test_split\n",
        "from matplotlib import pyplot as plt\n",
        "\n",
        "from keras import layers\n",
        "from keras import models\n",
        "\n",
        "from keras.models import Sequential\n",
        "from keras.layers import Dense\n",
        "from keras.layers import Dropout\n",
        "from keras.layers import LSTM"
      ],
      "execution_count": null,
      "outputs": []
    },
    {
      "cell_type": "code",
      "metadata": {
        "id": "eknkhMX-rRPN",
        "colab_type": "code",
        "colab": {
          "base_uri": "https://localhost:8080/",
          "height": 419
        },
        "outputId": "fc9036ab-0cd9-4e40-f0db-2822e87adda8"
      },
      "source": [
        "#Importing the stock prices dataset\n",
        "training_dataset = pd.read_csv('GOOG (10).csv')\n",
        "training_dataset"
      ],
      "execution_count": null,
      "outputs": [
        {
          "output_type": "execute_result",
          "data": {
            "text/html": [
              "<div>\n",
              "<style scoped>\n",
              "    .dataframe tbody tr th:only-of-type {\n",
              "        vertical-align: middle;\n",
              "    }\n",
              "\n",
              "    .dataframe tbody tr th {\n",
              "        vertical-align: top;\n",
              "    }\n",
              "\n",
              "    .dataframe thead th {\n",
              "        text-align: right;\n",
              "    }\n",
              "</style>\n",
              "<table border=\"1\" class=\"dataframe\">\n",
              "  <thead>\n",
              "    <tr style=\"text-align: right;\">\n",
              "      <th></th>\n",
              "      <th>Date</th>\n",
              "      <th>Open</th>\n",
              "      <th>High</th>\n",
              "      <th>Low</th>\n",
              "      <th>Close</th>\n",
              "      <th>Adj Close</th>\n",
              "      <th>Volume</th>\n",
              "    </tr>\n",
              "  </thead>\n",
              "  <tbody>\n",
              "    <tr>\n",
              "      <th>0</th>\n",
              "      <td>2018-08-09</td>\n",
              "      <td>1249.900024</td>\n",
              "      <td>1255.541992</td>\n",
              "      <td>1246.010010</td>\n",
              "      <td>1249.099976</td>\n",
              "      <td>1249.099976</td>\n",
              "      <td>848600</td>\n",
              "    </tr>\n",
              "    <tr>\n",
              "      <th>1</th>\n",
              "      <td>2018-08-10</td>\n",
              "      <td>1243.000000</td>\n",
              "      <td>1245.694946</td>\n",
              "      <td>1232.000000</td>\n",
              "      <td>1237.609985</td>\n",
              "      <td>1237.609985</td>\n",
              "      <td>1108700</td>\n",
              "    </tr>\n",
              "    <tr>\n",
              "      <th>2</th>\n",
              "      <td>2018-08-13</td>\n",
              "      <td>1236.979980</td>\n",
              "      <td>1249.272949</td>\n",
              "      <td>1233.640991</td>\n",
              "      <td>1235.010010</td>\n",
              "      <td>1235.010010</td>\n",
              "      <td>997300</td>\n",
              "    </tr>\n",
              "    <tr>\n",
              "      <th>3</th>\n",
              "      <td>2018-08-14</td>\n",
              "      <td>1235.189941</td>\n",
              "      <td>1245.869995</td>\n",
              "      <td>1225.109985</td>\n",
              "      <td>1242.099976</td>\n",
              "      <td>1242.099976</td>\n",
              "      <td>1348100</td>\n",
              "    </tr>\n",
              "    <tr>\n",
              "      <th>4</th>\n",
              "      <td>2018-08-15</td>\n",
              "      <td>1229.260010</td>\n",
              "      <td>1235.239990</td>\n",
              "      <td>1209.510010</td>\n",
              "      <td>1214.380005</td>\n",
              "      <td>1214.380005</td>\n",
              "      <td>1828800</td>\n",
              "    </tr>\n",
              "    <tr>\n",
              "      <th>...</th>\n",
              "      <td>...</td>\n",
              "      <td>...</td>\n",
              "      <td>...</td>\n",
              "      <td>...</td>\n",
              "      <td>...</td>\n",
              "      <td>...</td>\n",
              "      <td>...</td>\n",
              "    </tr>\n",
              "    <tr>\n",
              "      <th>498</th>\n",
              "      <td>2020-08-03</td>\n",
              "      <td>1486.640015</td>\n",
              "      <td>1490.469971</td>\n",
              "      <td>1465.640015</td>\n",
              "      <td>1474.449951</td>\n",
              "      <td>1474.449951</td>\n",
              "      <td>2330200</td>\n",
              "    </tr>\n",
              "    <tr>\n",
              "      <th>499</th>\n",
              "      <td>2020-08-04</td>\n",
              "      <td>1476.569946</td>\n",
              "      <td>1485.560059</td>\n",
              "      <td>1458.650024</td>\n",
              "      <td>1464.969971</td>\n",
              "      <td>1464.969971</td>\n",
              "      <td>1903500</td>\n",
              "    </tr>\n",
              "    <tr>\n",
              "      <th>500</th>\n",
              "      <td>2020-08-05</td>\n",
              "      <td>1469.300049</td>\n",
              "      <td>1482.410034</td>\n",
              "      <td>1463.459961</td>\n",
              "      <td>1473.609985</td>\n",
              "      <td>1473.609985</td>\n",
              "      <td>1979500</td>\n",
              "    </tr>\n",
              "    <tr>\n",
              "      <th>501</th>\n",
              "      <td>2020-08-06</td>\n",
              "      <td>1471.750000</td>\n",
              "      <td>1502.390015</td>\n",
              "      <td>1466.000000</td>\n",
              "      <td>1500.099976</td>\n",
              "      <td>1500.099976</td>\n",
              "      <td>1995400</td>\n",
              "    </tr>\n",
              "    <tr>\n",
              "      <th>502</th>\n",
              "      <td>2020-08-07</td>\n",
              "      <td>1500.000000</td>\n",
              "      <td>1516.844971</td>\n",
              "      <td>1481.640015</td>\n",
              "      <td>1494.489990</td>\n",
              "      <td>1494.489990</td>\n",
              "      <td>1576600</td>\n",
              "    </tr>\n",
              "  </tbody>\n",
              "</table>\n",
              "<p>503 rows × 7 columns</p>\n",
              "</div>"
            ],
            "text/plain": [
              "           Date         Open         High  ...        Close    Adj Close   Volume\n",
              "0    2018-08-09  1249.900024  1255.541992  ...  1249.099976  1249.099976   848600\n",
              "1    2018-08-10  1243.000000  1245.694946  ...  1237.609985  1237.609985  1108700\n",
              "2    2018-08-13  1236.979980  1249.272949  ...  1235.010010  1235.010010   997300\n",
              "3    2018-08-14  1235.189941  1245.869995  ...  1242.099976  1242.099976  1348100\n",
              "4    2018-08-15  1229.260010  1235.239990  ...  1214.380005  1214.380005  1828800\n",
              "..          ...          ...          ...  ...          ...          ...      ...\n",
              "498  2020-08-03  1486.640015  1490.469971  ...  1474.449951  1474.449951  2330200\n",
              "499  2020-08-04  1476.569946  1485.560059  ...  1464.969971  1464.969971  1903500\n",
              "500  2020-08-05  1469.300049  1482.410034  ...  1473.609985  1473.609985  1979500\n",
              "501  2020-08-06  1471.750000  1502.390015  ...  1500.099976  1500.099976  1995400\n",
              "502  2020-08-07  1500.000000  1516.844971  ...  1494.489990  1494.489990  1576600\n",
              "\n",
              "[503 rows x 7 columns]"
            ]
          },
          "metadata": {
            "tags": []
          },
          "execution_count": 2
        }
      ]
    },
    {
      "cell_type": "code",
      "metadata": {
        "id": "BnR1-FcJrRPP",
        "colab_type": "code",
        "colab": {
          "base_uri": "https://localhost:8080/",
          "height": 170
        },
        "outputId": "942e4b29-c534-47fb-8d4a-5be60e05a7ec"
      },
      "source": [
        "#Checking for null values and returning respective totals\n",
        "print (training_dataset.isnull().sum())\n",
        "total_null = training_dataset.isnull().sum().sum()\n",
        "print (\"The total number of null values is: \" + str(total_null))"
      ],
      "execution_count": null,
      "outputs": [
        {
          "output_type": "stream",
          "text": [
            "Date         0\n",
            "Open         0\n",
            "High         0\n",
            "Low          0\n",
            "Close        0\n",
            "Adj Close    0\n",
            "Volume       0\n",
            "dtype: int64\n",
            "The total number of null values is: 0\n"
          ],
          "name": "stdout"
        }
      ]
    },
    {
      "cell_type": "code",
      "metadata": {
        "id": "IOr5Vor5rRPS",
        "colab_type": "code",
        "colab": {}
      },
      "source": [
        "#Drop every column except the open, high and low columns\n",
        "training_dataset.drop(['Date', 'Close', 'Volume','Adj Close'], axis = 1, inplace = True)"
      ],
      "execution_count": null,
      "outputs": []
    },
    {
      "cell_type": "code",
      "metadata": {
        "id": "6u1XkYvSrRPV",
        "colab_type": "code",
        "colab": {}
      },
      "source": [
        "#Visualize the stock price data\n",
        "training_dataset.plot.line(subplots = True, title='Alphabet Stock Prices')\n",
        "training_dataset.plot(title='Alphabet Stock Prices')"
      ],
      "execution_count": null,
      "outputs": []
    },
    {
      "cell_type": "code",
      "metadata": {
        "id": "xYmHcBtRrRPX",
        "colab_type": "code",
        "colab": {}
      },
      "source": [
        "#Drop the high and low columns \n",
        "training_dataset.drop(['High', 'Low'], axis = 1, inplace = True)\n",
        "#Drop the bottom 2 columns\n",
        "training_dataset.drop(training_dataset.tail(2).index,inplace=True)\n",
        "print(training_dataset)\n",
        "print(training_dataset.shape)"
      ],
      "execution_count": null,
      "outputs": []
    },
    {
      "cell_type": "code",
      "metadata": {
        "id": "cFgjL1XxrRPa",
        "colab_type": "code",
        "colab": {}
      },
      "source": [
        "#Convert the data into numpy array\n",
        "train_data = training_dataset.to_numpy()\n",
        "train_data"
      ],
      "execution_count": null,
      "outputs": []
    },
    {
      "cell_type": "code",
      "metadata": {
        "id": "iBvFdcs2rRPc",
        "colab_type": "code",
        "colab": {}
      },
      "source": [
        "#From the dataset, separate into training and testing data with 80/20 percentile \n",
        "dataset_train = np.array(train_data[:int(train_data.shape[0]*0.8)])\n",
        "dataset_test = np.array(train_data[int(train_data.shape[0]*0.8):])\n",
        "#Find number of columns for each dataset\n",
        "print(dataset_train.shape)\n",
        "print(dataset_test.shape)"
      ],
      "execution_count": null,
      "outputs": []
    },
    {
      "cell_type": "code",
      "metadata": {
        "id": "wIaurRx8rRPe",
        "colab_type": "code",
        "colab": {}
      },
      "source": [
        "#Scale the data to range[0,1]\n",
        "#MinMaxScalar subtracts the minimum value in each feature and divides by the range(difference between original min and max)\n",
        "scalar = MinMaxScaler(feature_range = (0,1))\n",
        "train_data = scalar.fit_transform(dataset_train)\n",
        "train_data.shape"
      ],
      "execution_count": null,
      "outputs": []
    },
    {
      "cell_type": "code",
      "metadata": {
        "id": "43Rw1j2XrRPg",
        "colab_type": "code",
        "colab": {}
      },
      "source": [
        "#Declare the x_train and y_train \n",
        "x_train = train_data[0:399]\n",
        "y_train = train_data[1:400]\n",
        "\n",
        "x_train = np.reshape(x_train, (399,1,1))\n",
        "x_train.shape"
      ],
      "execution_count": null,
      "outputs": []
    },
    {
      "cell_type": "code",
      "metadata": {
        "id": "Vhdinf0ZrRPi",
        "colab_type": "code",
        "colab": {
          "base_uri": "https://localhost:8080/",
          "height": 459
        },
        "outputId": "ce404bc6-71a6-4cde-809c-c25f3f681b49"
      },
      "source": [
        "#Instantiate the Sequential model class \n",
        "model = Sequential()\n",
        "#Set the number of neurons/nodes with the units parameter\n",
        "#Return_sequences=True reflects adding more layers\n",
        "model.add(LSTM(units=96, return_sequences=True, input_shape=(None, 1)))\n",
        "#Add dropout to reduce over-fitting\n",
        "model.add(Dropout(0.2))\n",
        "model.add(LSTM(units=96, return_sequences=True))\n",
        "model.add(Dropout(0.2))\n",
        "model.add(LSTM(units=96, return_sequences=True))\n",
        "model.add(Dropout(0.2))\n",
        "model.add(LSTM(units=96))\n",
        "model.add(Dropout(0.2))\n",
        "#Add dense layer to reduce spacial parameters of the vector\n",
        "model.add(Dense(units=1))\n",
        "\n",
        "model.summary()"
      ],
      "execution_count": null,
      "outputs": [
        {
          "output_type": "stream",
          "text": [
            "Model: \"sequential\"\n",
            "_________________________________________________________________\n",
            "Layer (type)                 Output Shape              Param #   \n",
            "=================================================================\n",
            "lstm (LSTM)                  (None, None, 96)          37632     \n",
            "_________________________________________________________________\n",
            "dropout (Dropout)            (None, None, 96)          0         \n",
            "_________________________________________________________________\n",
            "lstm_1 (LSTM)                (None, None, 96)          74112     \n",
            "_________________________________________________________________\n",
            "dropout_1 (Dropout)          (None, None, 96)          0         \n",
            "_________________________________________________________________\n",
            "lstm_2 (LSTM)                (None, None, 96)          74112     \n",
            "_________________________________________________________________\n",
            "dropout_2 (Dropout)          (None, None, 96)          0         \n",
            "_________________________________________________________________\n",
            "lstm_3 (LSTM)                (None, 96)                74112     \n",
            "_________________________________________________________________\n",
            "dropout_3 (Dropout)          (None, 96)                0         \n",
            "_________________________________________________________________\n",
            "dense (Dense)                (None, 1)                 97        \n",
            "=================================================================\n",
            "Total params: 260,065\n",
            "Trainable params: 260,065\n",
            "Non-trainable params: 0\n",
            "_________________________________________________________________\n"
          ],
          "name": "stdout"
        }
      ]
    },
    {
      "cell_type": "code",
      "metadata": {
        "id": "VGTw_VcwrRPk",
        "colab_type": "code",
        "colab": {}
      },
      "source": [
        "#Compile the model\n",
        "model.compile(optimizer = 'adam', loss = \"mean_squared_error\")"
      ],
      "execution_count": null,
      "outputs": []
    },
    {
      "cell_type": "code",
      "metadata": {
        "id": "gWQf8dBkrRPm",
        "colab_type": "code",
        "colab": {}
      },
      "source": [
        "#Train the model for 100 epochs with 32 training examples used in each iteration\n",
        "model.fit(x_train, y_train, epochs = 100, batch_size = 32)"
      ],
      "execution_count": null,
      "outputs": []
    },
    {
      "cell_type": "code",
      "metadata": {
        "id": "3L6mDZVOrRPo",
        "colab_type": "code",
        "colab": {}
      },
      "source": [
        "#Display the testing dataset\n",
        "print(dataset_test)\n",
        "print(dataset_test.shape)"
      ],
      "execution_count": null,
      "outputs": []
    },
    {
      "cell_type": "code",
      "metadata": {
        "id": "xB5TqNbZrRPr",
        "colab_type": "code",
        "colab": {}
      },
      "source": [
        "#Reshape the training data and scale\n",
        "inputs = np.reshape(scalar.transform(dataset_test), (101,1,1))\n",
        "#Reverse the scaled predictions to their original values  \n",
        "stock_prediction = scalar.inverse_transform(model.predict(inputs))\n",
        "stock_prediction"
      ],
      "execution_count": null,
      "outputs": []
    },
    {
      "cell_type": "code",
      "metadata": {
        "id": "fFc-KIR5rRPv",
        "colab_type": "code",
        "colab": {}
      },
      "source": [
        "stock_prediction = np.squeeze(stock_prediction)\n",
        "stock_prediction"
      ],
      "execution_count": null,
      "outputs": []
    },
    {
      "cell_type": "code",
      "metadata": {
        "id": "MXZy9whPrRPx",
        "colab_type": "code",
        "colab": {}
      },
      "source": [
        "stock_prediction = stock_prediction.reshape(-1,1)\n",
        "stock_prediction"
      ],
      "execution_count": null,
      "outputs": []
    },
    {
      "cell_type": "code",
      "metadata": {
        "id": "0BH4XSnxrRPz",
        "colab_type": "code",
        "colab": {}
      },
      "source": [
        "#Graph the real stock prices against the model's prediction\n",
        "plt.plot(stock_prediction, label = 'Predicted Alphabet Stock Price', linewidth = 1.5)\n",
        "plt.plot(dataset_test, label = 'Real Alphabet Stock Price', linewidth = 1.5)\n",
        "plt.title(\"Alphabet Stock Price Prediction with LSTM's\")\n",
        "plt.xlabel('Time (measured in days)')\n",
        "plt.ylabel('Alphabet Stock Price($)')\n",
        "plt.legend()\n",
        "plt.show()"
      ],
      "execution_count": null,
      "outputs": []
    },
    {
      "cell_type": "code",
      "metadata": {
        "id": "rGzU1IUjrRP1",
        "colab_type": "code",
        "colab": {}
      },
      "source": [
        "#Calculate the standard deviation of the residuals\n",
        "rmse_value = math.sqrt(mean_squared_error(dataset_test, stock_prediction))\n",
        "rmse_value = round(rmse_value, 3)\n",
        "print(rmse_value)"
      ],
      "execution_count": null,
      "outputs": []
    },
    {
      "cell_type": "code",
      "metadata": {
        "id": "9xgqYoq-rRP3",
        "colab_type": "code",
        "colab": {}
      },
      "source": [
        "#Extrapolate the minimum and maximum real stock price values\n",
        "maxValTest = round(float(max(dataset_test)), 2)\n",
        "minValTest = round(float(min(dataset_test)), 2)\n",
        "print (\"The real maximum stock price is: \" + str(maxValTest) +\" dollars\")\n",
        "print (\"The real minimum stock price is: \" + str(minValTest) + \" dollars\")"
      ],
      "execution_count": null,
      "outputs": []
    },
    {
      "cell_type": "code",
      "metadata": {
        "id": "rkWRZt1nrRP5",
        "colab_type": "code",
        "colab": {}
      },
      "source": [
        "#Extrapolate the minimum and maximum real stock price values\n",
        "maxValPredict = round(float(max(stock_prediction)), 2)\n",
        "minValPredict = round(float(min(stock_prediction)), 2)\n",
        "print (\"The predicted maximum stock price is: \" + str(maxValPredict) +\" dollars\")\n",
        "print (\"The predicted minimum stock price is: \" + str(minValPredict) +\" dollars\")"
      ],
      "execution_count": null,
      "outputs": []
    },
    {
      "cell_type": "code",
      "metadata": {
        "id": "u6K4wBeErRP8",
        "colab_type": "code",
        "colab": {
          "base_uri": "https://localhost:8080/",
          "height": 34
        },
        "outputId": "73c2b611-3116-4d92-878c-788ec0f64f5a"
      },
      "source": [
        "#Calculate error and model accuracy with MAPE\n",
        "total = 0\n",
        "for i, j in zip(dataset_test, stock_prediction):\n",
        "    value = abs(i - j) / abs(i)\n",
        "    total += value\n",
        "error = float(total*100/(len(dataset_test))) #calculate mape\n",
        "mape = round(error, 1) #round to 3 significant figures\n",
        "accuracy = 100 - mape #Calculate accuracy\n",
        "print (\"The LSTM's accuracy in predicting the stock price is: \" + str(accuracy) + \"%\")"
      ],
      "execution_count": null,
      "outputs": [
        {
          "output_type": "stream",
          "text": [
            "The LSTM's accuracy in predicting the stock price is: 99.7%\n"
          ],
          "name": "stdout"
        }
      ]
    }
  ]
}